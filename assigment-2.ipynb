{
 "cells": [
  {
   "cell_type": "markdown",
   "metadata": {},
   "source": [
    "# Poem File\n",
    "\n",
    "1. Write a function in python to read the content from a text file \"poem.txt\" line by line and display the same on screen.\n",
    "2. Write a function in python to count the number of lines from a text file which is not starting with an alphabet \"T\". \n",
    "3. Write a function in Python to count and display the total number of words in the file.\n"
   ]
  },
  {
   "cell_type": "code",
   "execution_count": null,
   "metadata": {},
   "outputs": [],
   "source": [
    "## OPEN AND SHOW FILE\n",
    "with open('poem.txt', 'r') as reader:\n",
    "    try:\n",
    "        print(reader.read())\n",
    "    finally:\n",
    "        reader.close()"
   ]
  },
  {
   "cell_type": "code",
   "execution_count": null,
   "metadata": {},
   "outputs": [],
   "source": [
    "## COUNT T LINES\n",
    "count: int = 0\n",
    "with open('poem.txt', 'r') as file:\n",
    "    try:\n",
    "        for line in file:\n",
    "            if line[0] != 't' and line[0] != 'T':\n",
    "                count += 1\n",
    "    finally:\n",
    "        file.close()\n",
    "\n",
    "print(\"Theres {0} line(s) that start with 'T'\".format(count))\n"
   ]
  },
  {
   "cell_type": "code",
   "execution_count": null,
   "metadata": {},
   "outputs": [],
   "source": [
    "## COUNT WORDS\n",
    "with open('poem.txt', 'r') as file:\n",
    "    try:\n",
    "        words: list[str] = file.read().split()\n",
    "    finally:\n",
    "        file.close()\n",
    "\n",
    "print(\"Theres {0} word(s) in the file\".format(len(words)))"
   ]
  },
  {
   "cell_type": "markdown",
   "metadata": {},
   "source": [
    "# Story file\n",
    "\n",
    "1. Write a function in Python to read lines from a text file \"notes.txt\". Your function should find and display the occurrence of the word \"the\".\n",
    "2. Write a function display_words() in python to read lines from a text file \"story.txt\", and display those words, which are less than 4 characters.\n"
   ]
  },
  {
   "cell_type": "code",
   "execution_count": null,
   "metadata": {},
   "outputs": [],
   "source": [
    "## COUNT 'THE'\n",
    "count: int = 0\n",
    "with open('story.txt', 'r') as file:\n",
    "    try:\n",
    "        for word in file.read().split():\n",
    "            if word.lower() == 'the':\n",
    "                count += 1\n",
    "    finally:\n",
    "        file.close()\n",
    "\n",
    "print(\"'The' is found {0} time(s) in the file\".format(count))"
   ]
  },
  {
   "cell_type": "code",
   "execution_count": null,
   "metadata": {},
   "outputs": [],
   "source": [
    "## DISPLAY WORDS SMALLER THAN 4 CHARS\n",
    "def display_words(path: str) -> None:\n",
    "    print('|', end=\" \")\n",
    "    for word in open(path, 'r').read().split():\n",
    "        if len(word) < 4:\n",
    "            print(word, end=\" | \")\n",
    "\n",
    "display_words(\"story.txt\")"
   ]
  },
  {
   "cell_type": "markdown",
   "metadata": {},
   "source": [
    "# Article file\n",
    "1. Write a function in Python to count the words \"this\" and \"these\" present in a text file \"article.txt\".\n",
    "2. Write a function in Python to count words in a text file those are ending with alphabet \"e\". \n",
    "3. Write a function in Python to count uppercase character in a text file.\n"
   ]
  },
  {
   "cell_type": "code",
   "execution_count": null,
   "metadata": {},
   "outputs": [],
   "source": [
    "## COUNT THESE AND THIS\n",
    "def these_and_this(path: str) -> dict[str,int]:\n",
    "    counts: dict[str,int] = {\n",
    "        \"these\": 0,\n",
    "        \"this\": 0\n",
    "    }\n",
    "    for word in open(path, 'r').read().split():\n",
    "        if word.lower() == \"these\":\n",
    "            counts[\"these\"] += 1\n",
    "        if word.lower() == \"this\":\n",
    "            counts[\"this\"] += 1\n",
    "    \n",
    "    return counts\n",
    "\n",
    "result: dict[str, int] = these_and_this(\"article.txt\")\n",
    "print(\"'These' is found {0} time(s) in this file\".format(result[\"these\"]))\n",
    "print(\"'This' is found {0} time(s) in this file\".format(result[\"this\"]))\n"
   ]
  },
  {
   "cell_type": "code",
   "execution_count": null,
   "metadata": {},
   "outputs": [],
   "source": [
    "## COUNT WORDS ENDING IN E\n",
    "def ends_in_e(path: str) -> int:\n",
    "    count: int = 0\n",
    "    for word in open(path, 'r').read().split():\n",
    "        if word[-1].isalpha() == False:\n",
    "            if len(word) > 1 and word[-2].lower() == \"e\":\n",
    "                count += 1            \n",
    "        if word[-1].lower() == \"e\":\n",
    "            count += 1\n",
    "    \n",
    "    return count\n",
    "\n",
    "print(\"Theres {0} word(s) ending in 'e'\".format(ends_in_e(\"article.txt\")))"
   ]
  },
  {
   "cell_type": "code",
   "execution_count": null,
   "metadata": {},
   "outputs": [],
   "source": [
    "## COUNT UPPERCASE LETTERS\n",
    "def count_upper(path: str) -> int:\n",
    "    count: int = 0\n",
    "    for c in open(path, 'r').read():\n",
    "        if c.isupper():\n",
    "            count += 1\n",
    "    \n",
    "    return count\n",
    "\n",
    "print(\"Theres {0} uppercase letter(s)\".format(count_upper(\"article.txt\")))"
   ]
  }
 ],
 "metadata": {
  "kernelspec": {
   "display_name": "Python 3.10.7 64-bit",
   "language": "python",
   "name": "python3"
  },
  "language_info": {
   "codemirror_mode": {
    "name": "ipython",
    "version": 3
   },
   "file_extension": ".py",
   "mimetype": "text/x-python",
   "name": "python",
   "nbconvert_exporter": "python",
   "pygments_lexer": "ipython3",
   "version": "3.10.7"
  },
  "orig_nbformat": 4,
  "vscode": {
   "interpreter": {
    "hash": "26de051ba29f2982a8de78e945f0abaf191376122a1563185a90213a26c5da77"
   }
  }
 },
 "nbformat": 4,
 "nbformat_minor": 2
}
