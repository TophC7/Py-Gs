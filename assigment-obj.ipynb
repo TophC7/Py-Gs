{
 "cells": [
  {
   "cell_type": "markdown",
   "metadata": {},
   "source": [
    "# Print all the writable attributes of an object\n",
    "\n",
    "Create a class and using the class instance print all the writable attributes of that object."
   ]
  },
  {
   "cell_type": "code",
   "execution_count": null,
   "metadata": {},
   "outputs": [],
   "source": [
    "class Parrot:\n",
    "    # class attribute\n",
    "    species: str = 'bird'\n",
    "\n",
    "    # instance attribute\n",
    "    def __init__(self, name: str, age: int):\n",
    "        self.name: str = name\n",
    "        self.age: int = age\n",
    "\n",
    "# instantiate the Parrot class\n",
    "blu: Parrot = Parrot('Blu', 10)\n",
    "woo: Parrot = Parrot('woo', 15)\n",
    "\n",
    "# access the class attributes\n",
    "print('Blu is a {}'.format(blu.__class__.species))\n",
    "print('Woo is also a {}'.format(woo.__class__.species))\n",
    "# access the instance attributes\n",
    "print('{} is {} years old'.format( blu.name, blu.age))\n",
    "print('{} is {} years old'.format( woo.name, woo.age))\n",
    "\n",
    "print(\"Attributes:\", Parrot.__dict__)"
   ]
  },
  {
   "cell_type": "markdown",
   "metadata": {},
   "source": [
    "# Rectangle Class\n",
    "\n",
    "1. Write a Rectangle class in Python language, allowing you to build a rectangle with length and width attributes.\n",
    "2. Create a Perimeter() method to calculate the perimeter of the rectangle and a Area() method to calculate the area of ​​the rectangle.\n",
    "3. Create a method display() that display the length, width, perimeter and area of an object created using an instantiation on rectangle class.\n",
    "4. Create a Parallelepipede child class inheriting from the Rectangle class and with a height attribute and another Volume() method to calculate the volume of the Parallelepiped."
   ]
  },
  {
   "cell_type": "code",
   "execution_count": null,
   "metadata": {},
   "outputs": [],
   "source": [
    "## CREATE RECTANGLE CLASS\n",
    "class Rectangle:\n",
    "    def __init__(self, lenght: float, width: float) -> None:\n",
    "        self.lenght: float = lenght\n",
    "        self.width: float = width\n",
    "    \n",
    "    ## CREATE PERIMETER METHOD\n",
    "    def perimeter(self) -> float:\n",
    "        return 2 * (self.lenght + self.width)\n",
    "    \n",
    "    ## CREATE AREA METHOD\n",
    "    def area(self) -> float:\n",
    "        return self.lenght * self.width\n",
    "    \n",
    "    ## CREATE DISPLAY METHOD\n",
    "    def display(self) -> None:\n",
    "        print(\"Lenght:\", self.lenght, \"Width:\", self.width, \"Perimeter:\", self.perimeter(), \"Area:\", self.area())\n",
    "\n",
    "rect: Rectangle = Rectangle(42.0, 27.)\n",
    "rect.display()"
   ]
  },
  {
   "cell_type": "code",
   "execution_count": null,
   "metadata": {},
   "outputs": [],
   "source": [
    "## CREATE CHILD CLASS\n",
    "class Box(Rectangle):\n",
    "    def __init__(self, lenght: float, width: float, height: float) -> None:\n",
    "        super().__init__(lenght, width)\n",
    "        self.height: float = height\n",
    "    \n",
    "    def volume(self) -> float:\n",
    "        return self.lenght * self.width * self.height\n",
    "\n",
    "    def display(self) -> None:\n",
    "        print(\"Lenght:\", self.lenght, \"Width:\", self.width, \"Perimeter:\", self.perimeter(), \"Area:\", self.area(), \"Volume:\", self.volume())\n",
    "\n",
    "box: Box = Box(88.99, 42.00, 6)\n",
    "box.display()"
   ]
  },
  {
   "cell_type": "markdown",
   "metadata": {},
   "source": [
    "# Person class and child Student class\n",
    "\n",
    "1. Create a Python class Person with attributes: name and age of type string.\n",
    "2. Create a display() method that displays the name and age of an object created via the Person class.\n",
    "3. Create a child class Student  which inherits from the Person class and which also has a section attribute.\n",
    "4. Create a method displayStudent() that displays the name, age and section of an object created via the Student class.\n",
    "5. Create a student object via an instantiation on the Student class and then test the displayStudent method."
   ]
  },
  {
   "cell_type": "code",
   "execution_count": null,
   "metadata": {},
   "outputs": [],
   "source": [
    "## CREATE PARENT CLASS PERSON\n",
    "class Person:\n",
    "    def __init__(self, name: str, age: int) -> None:\n",
    "        self.name: str = name\n",
    "        self.age: int = age\n",
    "    \n",
    "    def display(self) -> None:\n",
    "        print(\"Name:\", self.name, \"Age:\", self.age)\n",
    "\n",
    "## CREATE CHILD CLASS STUDENT\n",
    "class Student(Person):\n",
    "    def __init__(self, name: str, age: int, section: str) -> None:\n",
    "        super().__init__(name, age)\n",
    "        self.section: str = section\n",
    "    \n",
    "    def displayStudent(self) -> None:\n",
    "        print(\"Name:\", self.name, \"Age:\", self.age, \"Section:\", self.section)\n",
    "\n",
    "person: Person = Person(\"Chris\", 23)\n",
    "student: Student = Student(\"Chris\", 23, \"Python\")\n",
    "\n",
    "## METHOD\n",
    "student.display()\n",
    "student.displayStudent()"
   ]
  },
  {
   "cell_type": "markdown",
   "metadata": {},
   "source": [
    "## Bank Account Classs\n",
    "\n",
    "1. Create a Python class called BankAccount which represents a bank account, having as attributes: accountNumber (numeric type), name (name of the account owner as string type), balance.\n",
    "2. Create a constructor with parameters: accountNumber, name, balance.\n",
    "3. Create a Deposit() method which manages the deposit actions.\n",
    "4. Create a Withdrawal() method  which manages withdrawals actions.\n",
    "5. Create an bankFees() method to apply the bank fees with a percentage of 5% of the balance account.\n",
    "6. Create a display() method to display account details."
   ]
  },
  {
   "cell_type": "code",
   "execution_count": null,
   "metadata": {},
   "outputs": [],
   "source": [
    "class BankAccount:\n",
    "    def __init__(self, account_number: int, name: str, balance: float) -> None:\n",
    "        self.account_number: int = account_number\n",
    "        self.name: str = name\n",
    "        self.balance: float = balance\n",
    "\n",
    "    def deposit(self, amount: float) -> None:\n",
    "        self.balance += amount\n",
    "        print(\"Deposited:\", amount)\n",
    "        print(\"Balance:\", self.balance)\n",
    "    \n",
    "    def withdrawal(self, amount: float) -> None:\n",
    "        self.balance -= amount\n",
    "        print(\"Withdrew:\", amount)\n",
    "        print(\"Balance:\", self.balance)\n",
    "\n",
    "    def bank_fees(self) -> None:\n",
    "        fees: float = (self.balance * 0.05)\n",
    "        self.balance -= fees\n",
    "        print(\"Fees:\", fees)\n",
    "        print(\"Balance:\", self.balance)\n",
    "    \n",
    "    #HARDCODED FOR EXAMPLE\n",
    "    def display(self):\n",
    "        self.deposit(90)\n",
    "        self.withdrawal(10)\n",
    "        self.bank_fees()\n",
    "\n",
    "account: BankAccount = BankAccount(1001, 'Chris', 100.11)\n",
    "account.display()"
   ]
  }
 ],
 "metadata": {
  "kernelspec": {
   "display_name": "Python 3.10.7 64-bit",
   "language": "python",
   "name": "python3"
  },
  "language_info": {
   "codemirror_mode": {
    "name": "ipython",
    "version": 3
   },
   "file_extension": ".py",
   "mimetype": "text/x-python",
   "name": "python",
   "nbconvert_exporter": "python",
   "pygments_lexer": "ipython3",
   "version": "3.10.7"
  },
  "orig_nbformat": 4,
  "vscode": {
   "interpreter": {
    "hash": "26de051ba29f2982a8de78e945f0abaf191376122a1563185a90213a26c5da77"
   }
  }
 },
 "nbformat": 4,
 "nbformat_minor": 2
}
