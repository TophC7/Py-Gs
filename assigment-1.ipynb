{
 "cells": [
  {
   "cell_type": "markdown",
   "metadata": {},
   "source": [
    "# Simple Calculator"
   ]
  },
  {
   "cell_type": "code",
   "execution_count": null,
   "metadata": {},
   "outputs": [],
   "source": [
    "numA: int = int(input(\"Input first number: \"))\n",
    "op: str = input(\"Input operation (+, -, *, /): \")\n",
    "numB: int = int(input(\"Input first number: \"))\n",
    "\n",
    "if op == \"+\": print(numA + numB)\n",
    "if op == \"-\": print(numA - numB)\n",
    "if op == \"*\": print(numA * numB)\n",
    "if op == \"/\": print(numA / numB)\n",
    "\n",
    "else: print(\"Some input was wrong try again\")"
   ]
  },
  {
   "cell_type": "markdown",
   "metadata": {},
   "source": [
    "# Largest among 3 ඞ"
   ]
  },
  {
   "cell_type": "code",
   "execution_count": null,
   "metadata": {},
   "outputs": [],
   "source": [
    "import sys\n",
    "from typing import List\n",
    "\n",
    "print(\"Input 3 numbers\")\n",
    "nums: List[int] = []\n",
    "\n",
    "larg: int = -sys.maxsize - 1\n",
    "\n",
    "for n in range(3):\n",
    "    nums.append(int(input(\"Num {0}: \".format(n + 1))))\n",
    "    if nums[n] > larg: larg = nums[n]\n",
    "\n",
    "print(\"Largest is: {0}\".format(larg))"
   ]
  },
  {
   "cell_type": "markdown",
   "metadata": {},
   "source": [
    "# Leap year"
   ]
  },
  {
   "cell_type": "code",
   "execution_count": null,
   "metadata": {},
   "outputs": [],
   "source": [
    "year: int = int(input(\"Iput Year: \"))\n",
    "\n",
    "# if century and devided by 400 then its a leap year\n",
    "if (year % 400 == 0) and (year % 100 == 0):\n",
    "    print(\"{0} is a leap year\".format(year))\n",
    "\n",
    "#if divided by 4 and not century its a leap year\n",
    "elif (year % 4 == 0) and (year % 100 != 0):\n",
    "    print(\"{0} is a leap year\".format(year))\n",
    "\n",
    "#else not a leap year\n",
    "else:\n",
    "    print(\"{0} is not a leap year\".format(year))"
   ]
  },
  {
   "cell_type": "markdown",
   "metadata": {},
   "source": [
    "# Generate Fibonacci Seq"
   ]
  },
  {
   "cell_type": "code",
   "execution_count": null,
   "metadata": {},
   "outputs": [],
   "source": [
    "def Fib(terms: int) -> None:\n",
    "    # first two terms\n",
    "    n1, n2 = 0, 1\n",
    "    count = 0\n",
    "\n",
    "    # check if terms is over 0\n",
    "    if terms <= 0:\n",
    "        print(\"Enter a number above 0\")\n",
    "    # if term is one print n1\n",
    "    elif terms == 1:\n",
    "        print(\"Fibonacci sequence upto\", terms, \":\")\n",
    "        print(n1)\n",
    "    # generate fibonacci sequence\n",
    "    else:\n",
    "        print(\"Fibonacci sequence:\")\n",
    "        while count < terms:\n",
    "            print(n1, end=\" \")\n",
    "            nth = n1 + n2\n",
    "            # update values\n",
    "            n1 = n2\n",
    "            n2 = nth\n",
    "            count += 1\n",
    "\n",
    "\n",
    "# Driver Program\n",
    "Fib(int(input(\"Enter a Number: \")))\n"
   ]
  },
  {
   "cell_type": "markdown",
   "metadata": {},
   "source": [
    "# Check Prime Number\n"
   ]
  },
  {
   "cell_type": "code",
   "execution_count": null,
   "metadata": {},
   "outputs": [],
   "source": [
    "def Prime(num: int) -> bool:\n",
    "    flag: bool = True\n",
    "\n",
    "    for i in range(2, num):\n",
    "        if (num % i) == 0:\n",
    "            # if a factor is found its not a prime\n",
    "            flag = False\n",
    "            break\n",
    "    \n",
    "    return flag\n",
    "\n",
    "num: int = 1\n",
    "while num <= 1:\n",
    "    num: int = int(input(\"Enter a Number above 1: \"))\n",
    "\n",
    "if Prime(num):\n",
    "    print(\"{0} is a Prime number\".format(num))\n",
    "else:\n",
    "    print(\"{0} is not a Prime number\".format(num))\n"
   ]
  },
  {
   "cell_type": "markdown",
   "metadata": {},
   "source": [
    "# Abs value"
   ]
  },
  {
   "cell_type": "code",
   "execution_count": null,
   "metadata": {},
   "outputs": [],
   "source": [
    "num: int = abs(int(input(\"Enter a num for abs value: \")))\n",
    "\n",
    "print(num)"
   ]
  },
  {
   "cell_type": "markdown",
   "metadata": {},
   "source": [
    "# Count length 2 equal Strings\n",
    "\n",
    "Write a Python program to count the number of strings where the string length is 2 or more and the first and last character are same from a given list of strings.\n",
    "\n",
    "Sample List:\n",
    "```python \n",
    "['abc', 'xyz', 'aba', '1221']\n",
    "```\n",
    "Expected Result : 2"
   ]
  },
  {
   "cell_type": "code",
   "execution_count": null,
   "metadata": {},
   "outputs": [],
   "source": [
    "\n",
    "listA: List[str] = ['abc', 'xyz', 'aba', '1221']\n",
    "listB: List[str] = ['w', 'o0o0o0o', 'xxxx', '223334422']\n",
    "listC: List[str] = ['2', '1', 'no', 'p']\n",
    "\n",
    "def countStr(list: List[str]) -> int:\n",
    "    count: int = 0\n",
    "\n",
    "    for s in list:\n",
    "        if (len(s) >= 2):\n",
    "            if (s[0] == s[len(s) - 1]):\n",
    "                count += 1\n",
    "    \n",
    "    return count\n",
    "\n",
    "print(countStr(listA))\n",
    "print(countStr(listB))\n",
    "print(countStr(listC))"
   ]
  },
  {
   "cell_type": "markdown",
   "metadata": {},
   "source": [
    "# Remove duplicates from list"
   ]
  },
  {
   "cell_type": "code",
   "execution_count": null,
   "metadata": {},
   "outputs": [],
   "source": [
    "listD: List[str] = ['hello','hello','hi','hola','hey',]\n",
    "\n",
    "def removeDupes(list: List[str]) -> List[str]:\n",
    "    # this upcacks the set into a new list\n",
    "    return [*set(list)]\n",
    "\n",
    "print(\"Og list:\", listD)\n",
    "print(\"No dupes list:\", removeDupes(listD))"
   ]
  },
  {
   "cell_type": "markdown",
   "metadata": {},
   "source": [
    "# Clone/Copy a list"
   ]
  },
  {
   "cell_type": "code",
   "execution_count": null,
   "metadata": {},
   "outputs": [],
   "source": [
    "ogList: List[int] = [0,1,0]\n",
    "copyList: List[int] = ogList[:]\n",
    "\n",
    "# proves not smae object but a copy\n",
    "print(\"Og list is Copy list:\", ogList is copyList)\n",
    "print(\"Og list:\",ogList)\n",
    "print(\"Copy list:\", copyList)"
   ]
  },
  {
   "cell_type": "markdown",
   "metadata": {},
   "source": [
    "# Max of nums"
   ]
  },
  {
   "cell_type": "code",
   "execution_count": null,
   "metadata": {},
   "outputs": [],
   "source": [
    "nums: List[int] = [0,1,2,3,4,5]\n",
    "print(max(*nums))\n",
    "\n",
    "nums: List[int] = [2,3,45,6,6,212,4,5,6,4]\n",
    "print(max(*nums))"
   ]
  },
  {
   "cell_type": "markdown",
   "metadata": {},
   "source": [
    "# Sum all in a list"
   ]
  },
  {
   "cell_type": "code",
   "execution_count": null,
   "metadata": {},
   "outputs": [],
   "source": [
    "def add(*args: float) -> float:\n",
    "    return sum(args)\n",
    "\n",
    "print(add(8,2,3,0,7))"
   ]
  },
  {
   "cell_type": "markdown",
   "metadata": {},
   "source": [
    "# Mutiply all in a list"
   ]
  },
  {
   "cell_type": "code",
   "execution_count": null,
   "metadata": {},
   "outputs": [],
   "source": [
    "def mult(*args: float) -> float:\n",
    "    total = 1\n",
    "    for n in args:\n",
    "        total *= n\n",
    "    return total\n",
    "\n",
    "print(mult(8,2,3,-1,7))"
   ]
  },
  {
   "cell_type": "markdown",
   "metadata": {},
   "source": [
    "# Reverse a String"
   ]
  },
  {
   "cell_type": "code",
   "execution_count": null,
   "metadata": {},
   "outputs": [],
   "source": [
    "def reverseStr(s: str) -> str:\n",
    "    return s[::-1]\n",
    "\n",
    "print(reverseStr(\"Hello\"))\n",
    "print(reverseStr(\"azzip tnaw I\"))\n"
   ]
  },
  {
   "cell_type": "markdown",
   "metadata": {},
   "source": [
    "---\n",
    "#### [Chris Toph 🥐](https://github.com/TophC7)"
   ]
  }
 ],
 "metadata": {
  "kernelspec": {
   "display_name": "Python 3.10.7 64-bit",
   "language": "python",
   "name": "python3"
  },
  "language_info": {
   "codemirror_mode": {
    "name": "ipython",
    "version": 3
   },
   "file_extension": ".py",
   "mimetype": "text/x-python",
   "name": "python",
   "nbconvert_exporter": "python",
   "pygments_lexer": "ipython3",
   "version": "3.10.7"
  },
  "orig_nbformat": 4,
  "vscode": {
   "interpreter": {
    "hash": "26de051ba29f2982a8de78e945f0abaf191376122a1563185a90213a26c5da77"
   }
  }
 },
 "nbformat": 4,
 "nbformat_minor": 2
}
